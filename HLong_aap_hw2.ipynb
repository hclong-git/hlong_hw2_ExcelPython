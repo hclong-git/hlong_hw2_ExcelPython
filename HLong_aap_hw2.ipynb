{
 "cells": [
  {
   "cell_type": "code",
   "execution_count": null,
   "id": "774d3cb0",
   "metadata": {},
   "outputs": [],
   "source": [
    "# Import libraries\n",
    "\n",
    "import copy\n",
    "import numpy as np\n",
    "import pandas as pd\n",
    "import matplotlib.pyplot as plt\n",
    "from mpl_toolkits.mplot3d import Axes3D\n",
    "import seaborn as sns\n",
    "from sklearn.model_selection._search import ParameterGrid\n",
    "from itertools import product\n",
    "from scipy.optimize import root_scalar\n",
    "from scipy.optimize import fsolve\n",
    "from scipy import stats\n",
    "from scipy.stats import norm\n",
    "from numpy.random import default_rng"
   ]
  },
  {
   "cell_type": "code",
   "execution_count": null,
   "id": "f7283661",
   "metadata": {},
   "outputs": [],
   "source": [
    "%matplotlib inline"
   ]
  },
  {
   "cell_type": "code",
   "execution_count": null,
   "id": "6e30bb0b",
   "metadata": {},
   "outputs": [],
   "source": [
    "# Import whatif\n",
    "\n",
    "from whatif import Model\n",
    "from whatif import get_sim_results_df"
   ]
  },
  {
   "cell_type": "markdown",
   "id": "f08a82d0",
   "metadata": {},
   "source": [
    "## **1A: Base Model**"
   ]
  },
  {
   "cell_type": "code",
   "execution_count": null,
   "id": "72aa79c6",
   "metadata": {},
   "outputs": [],
   "source": [
    "# Base inputs\n",
    "\n",
    "fixed_cost = 60000\n",
    "var_cost = 90\n",
    "selling_price = 120\n",
    "spf_scale = 10000000\n",
    "spf_exponent = -1.8"
   ]
  },
  {
   "cell_type": "code",
   "execution_count": null,
   "id": "9d2f61ed-056f-4c1d-9c58-43f2e48e641a",
   "metadata": {},
   "outputs": [],
   "source": [
    "# Create class that calculates revenue and total cost\n",
    "\n",
    "class SingleProductSPF(Model):\n",
    "    def __init__(self, fixed_cost, var_cost, selling_price, spf_scale, spf_exponent):\n",
    "        self.fixed_cost = fixed_cost\n",
    "        self.var_cost = var_cost\n",
    "        self.selling_price = selling_price\n",
    "        self.spf_scale = spf_scale\n",
    "        self.spf_exponent = spf_exponent\n",
    "        \n",
    "    def demand(self):\n",
    "        '''\n",
    "        Compute demand\n",
    "        '''\n",
    "        return self.spf_scale * self.selling_price ** self.spf_exponent\n",
    "    \n",
    "    def revenue(self):\n",
    "        '''\n",
    "        Compute revenue\n",
    "        '''\n",
    "        return (self.spf_scale * self.selling_price ** self.spf_exponent) * self.selling_price\n",
    "\n",
    "    def total_cost(self):\n",
    "        '''\n",
    "        Compute total cost\n",
    "        '''\n",
    "        return (self.spf_scale * self.selling_price ** self.spf_exponent) * self.var_cost + self.fixed_cost\n",
    "    \n",
    "    def profit(self):\n",
    "        '''\n",
    "        Compute profit\n",
    "        '''\n",
    "        profit = self.revenue() - self.total_cost()\n",
    "        return profit"
   ]
  },
  {
   "cell_type": "code",
   "execution_count": null,
   "id": "5cd8e3fb-1276-45f9-9ac9-11460fe0c8e7",
   "metadata": {},
   "outputs": [],
   "source": [
    "# Create a SingleProductSPF object\n",
    "\n",
    "model_1 = SingleProductSPF(fixed_cost, var_cost, selling_price, spf_scale, spf_exponent)"
   ]
  },
  {
   "cell_type": "code",
   "execution_count": null,
   "id": "86a83b7e-8b35-4b7f-82fe-6ab66de8cbd3",
   "metadata": {},
   "outputs": [],
   "source": [
    "# Testing model_1 output\n",
    "\n",
    "print(model_1.demand())\n",
    "print(model_1.revenue())\n",
    "print(model_1.total_cost())\n",
    "print(model_1.profit())"
   ]
  },
  {
   "cell_type": "markdown",
   "id": "e658c5d8-3a14-48cd-8862-572cb8415f4b",
   "metadata": {},
   "source": [
    "<div class=\"alert alert-block alert-success\">\n",
    "<b>YAY I got the same values as the homework check values. Moving along.<b>\n",
    "</div>"
   ]
  },
  {
   "cell_type": "markdown",
   "id": "41f6b8ef-a7f6-4bbb-8fb9-7031d1c1ea2d",
   "metadata": {},
   "source": [
    "## 1B: 1-Way Data Table"
   ]
  },
  {
   "cell_type": "code",
   "execution_count": null,
   "id": "6c387442-9f1d-4532-b83e-f404e7535301",
   "metadata": {},
   "outputs": [],
   "source": [
    "def data_table(Model, scenario_inputs, outputs):\n",
    "\n",
    "    # Clone the model using deepcopy\n",
    "    model_clone = copy.deepcopy(Model)\n",
    "    \n",
    "    # Create parameter grid\n",
    "    dt_param_grid = list(ParameterGrid(scenario_inputs))\n",
    "    \n",
    "    # Create the table as a list of dictionaries\n",
    "    results = []\n",
    "\n",
    "    # Loop over the scenarios\n",
    "    for params in dt_param_grid:\n",
    "        # Create a result dictionary based on a copy of the scenario inputs\n",
    "        result = copy.copy(params)\n",
    "        # Loop over the list of requested outputs\n",
    "        for output in outputs:\n",
    "            # Compute the output.\n",
    "            out_val = getattr(model_clone, output)()\n",
    "            # Add the output to the result dictionary\n",
    "            result[output] = out_val\n",
    "        \n",
    "        # Append the result dictionary to the results list\n",
    "        results.append(result)\n",
    "\n",
    "    # Convert the results list (of dictionaries) to a pandas DataFrame and return it\n",
    "    results_df = pd.DataFrame(results)\n",
    "    return results_df"
   ]
  },
  {
   "cell_type": "code",
   "execution_count": null,
   "id": "82f6bd00-7fd5-4354-be97-5fcc1f660427",
   "metadata": {},
   "outputs": [],
   "source": [
    "# Create a dictionary of base input values\n",
    "\n",
    "base_inputs = {'fixed_cost': 60000, \n",
    "               'var_cost': 90, \n",
    "               'selling_price': 120, \n",
    "               'spf_scale': 10000000, \n",
    "               'spf_exponent': -1.8}"
   ]
  },
  {
   "cell_type": "code",
   "execution_count": null,
   "id": "f7ed9475-b5d3-4e05-aedb-f826b9b3bf38",
   "metadata": {},
   "outputs": [],
   "source": [
    "# Create a new model with inputs specified by base_inputs dictionary\n",
    "\n",
    "model_2 = SingleProductSPF(**base_inputs)\n",
    "print(model_2)\n",
    "model_2.profit()"
   ]
  },
  {
   "cell_type": "code",
   "execution_count": null,
   "id": "c4cef031-98d4-4215-9a12-8b407ae81ef8",
   "metadata": {},
   "outputs": [],
   "source": [
    "# Specify input ranges for scenarios (dictionary)\n",
    "\n",
    "# 1-way table\n",
    "\n",
    "dt_param_ranges_1 = {'selling_price': np.arange(90, 191, 10)}\n",
    "\n",
    "# Specify desired outputs (list)\n",
    "\n",
    "outputs = ['demand','profit']\n",
    "\n",
    "# Use data_table function to create 1-way data table\n",
    "\n",
    "m2_dt1_df = Model.data_table(model_2, dt_param_ranges_1, outputs)\n",
    "m2_dt1_df"
   ]
  },
  {
   "cell_type": "code",
   "execution_count": null,
   "id": "f8959898-267b-46c3-a214-d5be826487a7",
   "metadata": {},
   "outputs": [],
   "source": [
    "# Create line graph to show relationship between selling price and profit\n",
    "\n",
    "fig, ax1 = plt.subplots(figsize = ( 10 , 6 ))\n",
    "\n",
    "# Plot line graph\n",
    "\n",
    "sns.lineplot(x = \"selling_price\", y = \"profit\", ci = None, data = m2_dt1_df)\n",
    "\n",
    "# Set label for X axis\n",
    "\n",
    "ax1.set_xlabel( \"Selling Price (USD)\" , size = 12 )\n",
    "\n",
    "# Set label for y-axis\n",
    "\n",
    "ax1.set_ylabel( \"Profit (USD)\" , size = 12 )\n",
    "\n",
    "# Make X and Y currency\n",
    "\n",
    "ax1.yaxis.set_major_formatter('${x:1,.0f}')\n",
    "ax1.xaxis.set_major_formatter('${x:1,.0f}')\n",
    "\n",
    "# Create chart title\n",
    "\n",
    "ax1.set_title( \"Relationship between Selling Price and Profit\" , size = 14 )\n",
    "  "
   ]
  },
  {
   "cell_type": "code",
   "execution_count": null,
   "id": "278845bd-36ac-4039-883c-1bee61fc1334",
   "metadata": {
    "tags": []
   },
   "outputs": [],
   "source": [
    "# Create color line graph to show relationship between selling price and profit\n",
    "\n",
    "fig, ax2 = plt.subplots(figsize = ( 10 , 6 ))\n",
    "\n",
    "# Plot line graph\n",
    "\n",
    "sns.set_style(\"darkgrid\")\n",
    "sns.scatterplot(x=\"selling_price\", y=\"profit\", hue=\"demand\", data=m2_dt1_df, palette=\"viridis\")\n",
    "\n",
    "# Set label for X axis\n",
    "\n",
    "ax2.set_xlabel( \"Selling Price (USD)\" , size = 12 )\n",
    "\n",
    "# Set label for y-axis\n",
    "\n",
    "ax2.set_ylabel( \"Profit (USD)\" , size = 12 )\n",
    "\n",
    "# Make X and Y currency\n",
    "\n",
    "ax2.yaxis.set_major_formatter('${x:1,.0f}')\n",
    "ax2.xaxis.set_major_formatter('${x:1,.0f}')\n",
    "\n",
    "# Create chart title\n",
    "\n",
    "ax2.set_title( \"Relationship between Selling Price and Profit\" , size = 14 )"
   ]
  },
  {
   "cell_type": "markdown",
   "id": "4982338f-d36b-428a-ac0c-ea4fb868bc32",
   "metadata": {},
   "source": [
    "<div class=\"alert alert-block alert-success\">\n",
    "<b>This is not a linear relationship. Demand is at its highest when the sell price is at its lowest ($90) but once you factor in variable and fixed costs, profit is negative (costs outweigh the revenue). Though demand decreaes as selling price increaes, because the selling price is so high, profit is actually positive because the units multiplied by the selling price (revenue) is still greater than the cost to produce.<b>\n",
    "</div>"
   ]
  },
  {
   "cell_type": "markdown",
   "id": "bf92a508-98e4-455f-9f4c-b9a4572a88d0",
   "metadata": {},
   "source": [
    "## 1C: Break Even"
   ]
  },
  {
   "cell_type": "code",
   "execution_count": null,
   "id": "fc2ab65d-95e4-4db5-a609-15995c7178bb",
   "metadata": {},
   "outputs": [],
   "source": [
    "base_inputs = {'fixed_cost': 60000, \n",
    "               'var_cost': 90, \n",
    "               'selling_price': 120, \n",
    "               'spf_scale': 10000000, \n",
    "               'spf_exponent': -1.8}"
   ]
  },
  {
   "cell_type": "code",
   "execution_count": null,
   "id": "a37b0e39-00bc-4da6-9c2e-405b11fd25d8",
   "metadata": {
    "tags": []
   },
   "outputs": [],
   "source": [
    "def goal_seek(Model, obj_fn, target, by_changing, a, b, N=100, verbose=False):\n",
    "    \n",
    "    # Clone the model\n",
    "    model_clone = copy.deepcopy(Model)\n",
    "    \n",
    "    setattr(model_clone, by_changing, a)\n",
    "    f_a_0 = getattr(model_clone, obj_fn)()\n",
    "    setattr(model_clone, by_changing, b)\n",
    "    f_b_0 = getattr(model_clone, obj_fn)()\n",
    "    \n",
    "    if (f_a_0 - target) * (f_b_0 - target) >= 0:\n",
    "        # print(\"Bisection method fails.\")\n",
    "        return None\n",
    "    \n",
    "    # Initialize the end points\n",
    "    a_n = a\n",
    "    b_n = b\n",
    "    for n in range(1, N+1):\n",
    "        # Compute the midpoint\n",
    "        m_n = (a_n + b_n)/2\n",
    "        \n",
    "        # Function value at midpoint\n",
    "        setattr(model_clone, by_changing, m_n)\n",
    "        f_m_n = getattr(model_clone, obj_fn)()\n",
    "        \n",
    "        # Function value at a_n\n",
    "        setattr(model_clone, by_changing, a_n)\n",
    "        f_a_n = getattr(model_clone, obj_fn)()\n",
    "        \n",
    "        # Function value at b_n\n",
    "        setattr(model_clone, by_changing, b_n)\n",
    "        f_b_n = getattr(model_clone, obj_fn)()\n",
    "        \n",
    "        if verbose:\n",
    "            print(f\"n = {n}, a_n = {a_n}, b_n = {b_n}, m_n = {m_n}, width = {b_n - a_n}\")\n",
    "\n",
    "        # Figure out which half the root is in, or if we hit it exactly, or if the search failed\n",
    "        if (f_a_n - target) * (f_m_n - target) < 0:\n",
    "            a_n = a_n\n",
    "            b_n = m_n\n",
    "            if verbose:\n",
    "                print(\"Root is in left half\")\n",
    "        elif (f_b_n - target) * (f_m_n - target) < 0:\n",
    "            a_n = m_n\n",
    "            b_n = b_n\n",
    "            if verbose:\n",
    "                print(\"Root is in right half\")\n",
    "        elif f_m_n == target:\n",
    "            if verbose:\n",
    "                print(\"Found exact solution.\")\n",
    "            return m_n\n",
    "        else:\n",
    "            if verbose:\n",
    "                print(\"Bisection method fails.\")\n",
    "            return None\n",
    "    \n",
    "    # If we get here we hit iteration limit, return best solution found so far\n",
    "    if verbose:\n",
    "        print(\"Reached iteration limit\")\n",
    "    return (a_n + b_n)/2"
   ]
  },
  {
   "cell_type": "code",
   "execution_count": null,
   "id": "066c08ca-fcb5-4c21-ac49-303f5b84e99c",
   "metadata": {},
   "outputs": [],
   "source": [
    "goal_seek(model_2, 'profit', 0, 'selling_price', 100, 200, N=100, verbose=True)"
   ]
  },
  {
   "cell_type": "markdown",
   "id": "87dcd643-8d2c-4396-ab87-99bf0539563f",
   "metadata": {},
   "source": [
    "<div class=\"alert alert-block alert-success\">\n",
    "<b>The break even selling price is $126.43.<b>\n",
    "</div>"
   ]
  },
  {
   "cell_type": "markdown",
   "id": "59eba7d3-789e-4e5e-a287-2c8c7bf56cf1",
   "metadata": {},
   "source": [
    "## 1D: 2-Way Data Table"
   ]
  },
  {
   "cell_type": "code",
   "execution_count": null,
   "id": "2ed730e8-f948-4b13-88ee-4185f70f6924",
   "metadata": {
    "tags": []
   },
   "outputs": [],
   "source": [
    "# 2-way table\n",
    "\n",
    "dt_param_ranges_2 = {'selling_price': np.arange(90, 191, 10),\n",
    "                     'var_cost': np.arange(85, 111, 5)}\n",
    "\n",
    "# Specify desired outputs (list)\n",
    "\n",
    "outputs = ['demand','revenue','total_cost','profit']\n",
    "\n",
    "# Use data_table function to create 1-way data table\n",
    "\n",
    "m2_dt2_df = Model.data_table(model_2, dt_param_ranges_2, outputs)\n",
    "m2_dt2_df"
   ]
  },
  {
   "cell_type": "markdown",
   "id": "528b34a6-51c5-4f1c-ab17-3545b1cefea8",
   "metadata": {},
   "source": [
    "## 1E: Simulation"
   ]
  },
  {
   "cell_type": "code",
   "execution_count": null,
   "id": "c04f91ba-dab3-4ec7-8da5-fab6c327c2bc",
   "metadata": {},
   "outputs": [],
   "source": [
    "rg = default_rng(4470)\n",
    "rg.random() # Generate one just to see it work"
   ]
  },
  {
   "cell_type": "code",
   "execution_count": null,
   "id": "9ff6d94a-af16-45fd-bb27-b215fda7943d",
   "metadata": {},
   "outputs": [],
   "source": [
    "# Reset base inputs\n",
    "\n",
    "fixed_cost = 60000\n",
    "var_cost = 90\n",
    "selling_price = 120\n",
    "spf_scale = 10000000"
   ]
  },
  {
   "cell_type": "code",
   "execution_count": null,
   "id": "3b9fe38b-6073-42d2-9bcd-8e37919dfcac",
   "metadata": {},
   "outputs": [],
   "source": [
    "# Create new model for simulation\n",
    "\n",
    "model_sim = SingleProductSPF(fixed_cost=fixed_cost,\n",
    "                             var_cost=var_cost,\n",
    "                             selling_price=selling_price,\n",
    "                             spf_scale=spf_scale,\n",
    "                             spf_exponent=spf_exponent)"
   ]
  },
  {
   "cell_type": "code",
   "execution_count": null,
   "id": "9871e529-c630-4d26-ac08-03873f048894",
   "metadata": {},
   "outputs": [],
   "source": [
    "num_reps = 100\n",
    "spf_exponent_sim = rg.uniform(-2.0, -1.6, num_reps)\n",
    "\n",
    "random_inputs = {'spf_exponent': spf_exponent_sim}"
   ]
  },
  {
   "cell_type": "code",
   "execution_count": null,
   "id": "63deac7c-7200-44ce-982b-066cf6fd2660",
   "metadata": {
    "tags": []
   },
   "outputs": [],
   "source": [
    "scenario_inputs = {'selling_price': np.arange(90, 191, 10)}\n",
    "list(ParameterGrid(scenario_inputs))"
   ]
  },
  {
   "cell_type": "code",
   "execution_count": null,
   "id": "d06ca6b9-98e7-419d-99bb-851fec11d24b",
   "metadata": {},
   "outputs": [],
   "source": [
    "# Set output variable\n",
    "\n",
    "sim_outputs = ['profit']"
   ]
  },
  {
   "cell_type": "code",
   "execution_count": null,
   "id": "7167ef80-8e11-42f6-9a2a-f9abe18e5f34",
   "metadata": {},
   "outputs": [],
   "source": [
    "def create_parameter_grid(scenario_inputs):\n",
    "\n",
    "    param_grid = []\n",
    "\n",
    "    keys, values = zip(*scenario_inputs.items())\n",
    "\n",
    "    for v in product(*values):\n",
    "        params = dict(zip(keys, v))\n",
    "        param_grid.append(params)\n",
    "\n",
    "    return param_grid\n",
    "\n",
    "def simulate(Model, random_inputs, outputs, scenario_inputs=None, keep_random_inputs=False):\n",
    "\n",
    "        # Clone the model\n",
    "        model_clone = copy.deepcopy(Model)\n",
    "\n",
    "        # Update clone with random_inputs\n",
    "        model_clone.update(random_inputs)\n",
    "\n",
    "        # Store raw simulation input values if desired\n",
    "        if keep_random_inputs:\n",
    "            scenario_base_vals = vars(model_clone)\n",
    "        else:\n",
    "            scenario_base_vals = vars(Model)\n",
    "\n",
    "        # Initialize output counters and containers\n",
    "        scenario_num = 0\n",
    "        scenario_results = []\n",
    "\n",
    "        # Check if multiple scenarios\n",
    "        if scenario_inputs is not None:\n",
    "            # Create parameter grid for scenario inputs\n",
    "            sim_param_grid = list(create_parameter_grid(scenario_inputs))\n",
    "\n",
    "            # Scenario loop\n",
    "            for params in sim_param_grid:\n",
    "                model_clone.update(params)\n",
    "                # Initialize scenario related outputs\n",
    "                result = {}\n",
    "                scenario_vals = copy.copy(params)\n",
    "                result['scenario_base_vals'] = scenario_base_vals\n",
    "                result['scenario_num'] = scenario_num\n",
    "                result['scenario_vals'] = scenario_vals\n",
    "                raw_output = {}\n",
    "\n",
    "                # Output measure loop\n",
    "                for output_name in outputs:\n",
    "                    output_array = getattr(model_clone, output_name)()\n",
    "                    raw_output[output_name] = output_array\n",
    "\n",
    "                # Gather results for this scenario\n",
    "                result['output'] = raw_output\n",
    "                scenario_results.append(result)\n",
    "                scenario_num += 1\n",
    "\n",
    "            return scenario_results\n",
    "\n",
    "        else:\n",
    "            # Similar logic to above, but only a single scenario\n",
    "            results = []\n",
    "            result = {}\n",
    "\n",
    "            result['scenario_base_vals'] = scenario_base_vals\n",
    "            result['scenario_num'] = scenario_num\n",
    "            result['scenario_vals'] = {}\n",
    "\n",
    "            raw_output = {}\n",
    "            for output_name in outputs:\n",
    "                output_array = getattr(model_clone, output_name)()\n",
    "                raw_output[output_name] = output_array\n",
    "\n",
    "            result['output'] = raw_output\n",
    "            results.append(result)\n",
    "\n",
    "            return results"
   ]
  },
  {
   "cell_type": "code",
   "execution_count": null,
   "id": "e4a14761-90ee-406d-89d5-b7ddb1aa40f6",
   "metadata": {},
   "outputs": [],
   "source": [
    "model_sim_results = simulate(model_sim, random_inputs, sim_outputs, scenario_inputs)"
   ]
  },
  {
   "cell_type": "code",
   "execution_count": null,
   "id": "a25c8716-9dea-4c08-8857-02c2f3aacf78",
   "metadata": {
    "tags": []
   },
   "outputs": [],
   "source": [
    "for scenario in model_sim_results:\n",
    "    print(scenario['scenario_num'], scenario['scenario_vals'], scenario['output']['profit'].mean())"
   ]
  },
  {
   "cell_type": "code",
   "execution_count": null,
   "id": "f35badd6-d69b-4aae-897e-5b39b57d2aca",
   "metadata": {
    "tags": []
   },
   "outputs": [],
   "source": [
    "# Look at random scenario\n",
    "\n",
    "model_sim_results[4]"
   ]
  },
  {
   "cell_type": "code",
   "execution_count": null,
   "id": "ed7318e4-8be1-4cb6-bea9-0a9156e51aa0",
   "metadata": {},
   "outputs": [],
   "source": [
    "# Gather results to create data frame\n",
    "\n",
    "def get_sim_results_df(results):\n",
    "    \n",
    "    dfs = []    \n",
    "    for r in results:\n",
    "        df = pd.DataFrame(r['output'])\n",
    "        df['scenario_num'] = r['scenario_num']\n",
    "        for key, val in r['scenario_vals'].items():\n",
    "            df[key] = val\n",
    "            \n",
    "        dfs.append(df)\n",
    "\n",
    "    results_df = pd.concat(dfs)\n",
    "    \n",
    "    return results_df"
   ]
  },
  {
   "cell_type": "code",
   "execution_count": null,
   "id": "9e9bfe35-2201-4c2a-aefe-f4d36e37ee72",
   "metadata": {},
   "outputs": [],
   "source": [
    "# Create data frame\n",
    "\n",
    "model_sim_results_df = get_sim_results_df(model_sim_results)"
   ]
  },
  {
   "cell_type": "code",
   "execution_count": null,
   "id": "cf54dc7e-d4bc-4fe9-b95b-9b0cd915ee48",
   "metadata": {},
   "outputs": [],
   "source": [
    "# Show data frame\n",
    "\n",
    "model_sim_results_df"
   ]
  },
  {
   "cell_type": "code",
   "execution_count": null,
   "id": "ed1cd20c-18a5-4724-a0fd-ebddf6ee1ba6",
   "metadata": {},
   "outputs": [],
   "source": [
    "# Create histogram(s) of profit\n",
    "\n",
    "profit_histo_g = sns.FacetGrid(model_sim_results_df, col='selling_price', sharey=True, col_wrap=3)\n",
    "profit_histo_g = profit_histo_g.map(plt.hist, \"profit\")"
   ]
  },
  {
   "cell_type": "code",
   "execution_count": null,
   "id": "70a2fb93-cd9a-4287-88f0-77b6f0792c42",
   "metadata": {},
   "outputs": [],
   "source": [
    "# Create box plot just for fun\n",
    "\n",
    "sns.boxplot(x=\"selling_price\", y=\"profit\", data=model_sim_results_df);"
   ]
  },
  {
   "cell_type": "code",
   "execution_count": null,
   "id": "8aa8f8a2-9e8e-49d1-a25a-d4d95805b346",
   "metadata": {},
   "outputs": [],
   "source": [
    "# Probability profit is negative\n",
    "\n",
    "print(stats.percentileofscore(model_sim_results_df.profit, 0) / 100.0)"
   ]
  },
  {
   "cell_type": "markdown",
   "id": "6da272cc-fd1a-48ee-9c7a-bd2c6c04a4a4",
   "metadata": {},
   "source": [
    "<div class=\"alert alert-block alert-success\">\n",
    "<b>55% chance profit is negative...no bueno, senor.<b>\n",
    "</div>"
   ]
  },
  {
   "cell_type": "markdown",
   "id": "2ec398de-a4ac-45cf-bab5-70dc04087898",
   "metadata": {},
   "source": [
    "## 2A: Extended Model with Capacity Constraints"
   ]
  },
  {
   "cell_type": "code",
   "execution_count": null,
   "id": "5828e22e-807d-4e2e-be30-fecfeec07eac",
   "metadata": {},
   "outputs": [],
   "source": [
    "# New inputs for the extended model\n",
    "\n",
    "fixed_cost = 60000\n",
    "var_cost = 90\n",
    "selling_price = 120\n",
    "spf_scale = 10000000\n",
    "spf_exponent = -1.8\n",
    "ot_threshold = 1000\n",
    "ot_var_cost = 110\n",
    "lost_demand_threshold= 1200"
   ]
  },
  {
   "cell_type": "code",
   "execution_count": null,
   "id": "1b374513-6ab9-47d4-8e5f-774053538f8d",
   "metadata": {},
   "outputs": [],
   "source": [
    "# Create class that calculates revenue and total cost\n",
    "\n",
    "class SingleProductSPF_EXT(Model):\n",
    "    def __init__(self, fixed_cost, var_cost, selling_price, spf_scale, spf_exponent, ot_threshold, ot_var_cost, lost_demand_threshold):\n",
    "        self.fixed_cost = fixed_cost\n",
    "        self.var_cost = var_cost\n",
    "        self.selling_price = selling_price\n",
    "        self.spf_scale = spf_scale\n",
    "        self.spf_exponent = spf_exponent\n",
    "        self.ot_threshold = ot_threshold\n",
    "        self.ot_var_cost = ot_var_cost\n",
    "        self.lost_demand_threshold = lost_demand_threshold\n",
    "        \n",
    "    def demand(self):\n",
    "        '''\n",
    "        Compute demand\n",
    "        '''\n",
    "        return self.spf_scale * self.selling_price ** self.spf_exponent\n",
    "    \n",
    "    def num_sold(self):\n",
    "        '''\n",
    "        Compute the number of units sold, canot be greater than 1200\n",
    "        '''\n",
    "        return min(self.demand(), self.lost_demand_threshold)\n",
    "    \n",
    "    def total_var_cost(self):\n",
    "        '''\n",
    "        Compute variable cost ($90 < 1000, $110 for 1000 <= 1200)\n",
    "        '''\n",
    "        return (self.var_cost * min(self.num_sold(), self.ot_threshold)) + (self.ot_var_cost * max(0, self.num_sold() - self.ot_threshold))\n",
    "    \n",
    "    def revenue(self):\n",
    "        '''\n",
    "        Compute revenue\n",
    "        '''\n",
    "        return self.num_sold() * self.selling_price\n",
    "\n",
    "    def total_cost(self):\n",
    "        '''\n",
    "        Compute total cost\n",
    "        '''\n",
    "        return self.total_var_cost() + self.fixed_cost\n",
    "    \n",
    "    def profit(self):\n",
    "        '''\n",
    "        Compute profit\n",
    "        '''\n",
    "        return self.revenue() - self.total_cost()\n",
    "    \n",
    "    def __str__(self):\n",
    "        \"\"\"\n",
    "        String representation of SingleProductSPF_EXT inputs\n",
    "        \"\"\"\n",
    "        return str(vars(self))"
   ]
  },
  {
   "cell_type": "code",
   "execution_count": null,
   "id": "6979dbe4-c08c-4b42-949b-493d6898bff6",
   "metadata": {},
   "outputs": [],
   "source": [
    "# Create a 1-way data table for the extended model\n",
    "\n",
    "def data_table(Model, scenario_inputs, outputs):\n",
    "\n",
    "    # Clone the model using deepcopy\n",
    "    model_clone = copy.deepcopy(Model)\n",
    "    \n",
    "    # Create parameter grid\n",
    "    dt_param_grid = list(ParameterGrid(scenario_inputs))\n",
    "    \n",
    "    # Create the table as a list of dictionaries\n",
    "    results = []\n",
    "\n",
    "    # Loop over the scenarios\n",
    "    for params in dt_param_grid:\n",
    "        # Create a result dictionary based on a copy of the scenario inputs\n",
    "        result = copy.copy(params)\n",
    "        # Loop over the list of requested outputs\n",
    "        for output in outputs:\n",
    "            # Compute the output.\n",
    "            out_val = getattr(model_clone, output)()\n",
    "            # Add the output to the result dictionary\n",
    "            result[output] = out_val\n",
    "        \n",
    "        # Append the result dictionary to the results list\n",
    "        results.append(result)\n",
    "\n",
    "    # Convert the results list (of dictionaries) to a pandas DataFrame and return it\n",
    "    results_df = pd.DataFrame(results)\n",
    "    return results_df"
   ]
  },
  {
   "cell_type": "code",
   "execution_count": null,
   "id": "3dedc86d-7865-4ae5-a8c0-1ec78faa526c",
   "metadata": {},
   "outputs": [],
   "source": [
    "# Resetting base inputs for extended model\n",
    "\n",
    "base_inputs_EXT = {'fixed_cost': 60000, \n",
    "               'var_cost': 90, \n",
    "               'selling_price': 120, \n",
    "               'spf_scale': 10000000, \n",
    "               'spf_exponent': -1.8, \n",
    "               'ot_threshold': 1000,\n",
    "               'ot_var_cost': 110,\n",
    "               'lost_demand_threshold': 1200}"
   ]
  },
  {
   "cell_type": "code",
   "execution_count": null,
   "id": "2de639e2-1550-4e26-ae38-78760b2b8075",
   "metadata": {},
   "outputs": [],
   "source": [
    "# Create a new model with inputs specified by base_inputs_EXT dictionary\n",
    "\n",
    "model_3_ext = SingleProductSPF_EXT(**base_inputs_EXT)\n",
    "print(model_3_ext)\n",
    "model_3_ext.profit()"
   ]
  },
  {
   "cell_type": "code",
   "execution_count": null,
   "id": "303d175b-b2e8-4dd8-a43f-9b4533873bcd",
   "metadata": {},
   "outputs": [],
   "source": [
    "# Specify input ranges for scenarios (dictionary)\n",
    "\n",
    "# 1-way table\n",
    "\n",
    "dt_param_ranges_3 = {'selling_price': np.arange(90, 191, 10)}\n",
    "\n",
    "# Specify desired outputs (list)\n",
    "\n",
    "outputs = ['demand','num_sold','profit']\n",
    "\n",
    "# Use data_table function to create 1-way data table\n",
    "\n",
    "m3_dt3_ext_df = Model.data_table(model_3_ext, dt_param_ranges_3, outputs)\n",
    "m3_dt3_ext_df"
   ]
  },
  {
   "cell_type": "code",
   "execution_count": null,
   "id": "163aa922-46d5-422e-804c-caa6b8d8dd36",
   "metadata": {},
   "outputs": [],
   "source": [
    "# Create line graph to show relationship between selling price and profit in the first model and the extended model\n",
    "\n",
    "fig, axEXT = plt.subplots()\n",
    "\n",
    "Model1_profit = m2_dt1_df.profit\n",
    "Model1_sp = m2_dt1_df.selling_price\n",
    "Model2_profit = m3_dt3_ext_df.profit\n",
    "Model2_sp = m3_dt3_ext_df.selling_price\n",
    "\n",
    "plt.plot(Model1_sp, Model1_profit, '-r', label=\"OG Model\")\n",
    "plt.plot(Model2_sp, Model2_profit, '-m', label=\"EXT Model\")\n",
    "leg = axEXT.legend()\n",
    "\n",
    "# Set label for X axis\n",
    "\n",
    "axEXT.set_xlabel( \"Selling Price (USD)\" , size = 12 )\n",
    "\n",
    "# Set label for y-axis\n",
    "\n",
    "axEXT.set_ylabel( \"Profit (USD)\" , size = 12 )\n",
    "\n",
    "# Make X and Y currency\n",
    "\n",
    "axEXT.yaxis.set_major_formatter('${x:1,.0f}')\n",
    "axEXT.xaxis.set_major_formatter('${x:1,.0f}')\n",
    "\n",
    "# Create chart title\n",
    "\n",
    "axEXT.set_title( \"Relationship between Selling Price and Profit: OG and EXT Models\" , size = 14 )"
   ]
  },
  {
   "cell_type": "code",
   "execution_count": null,
   "id": "9466b28a-74a4-4260-8731-1fa683bdc4d1",
   "metadata": {},
   "outputs": [],
   "source": [
    "# Find break even selling price on the extended model\n",
    "\n",
    "def goal_seek(Model, obj_fn, target, by_changing, a, b, N=100, verbose=False):\n",
    "    \n",
    "    # Clone the model\n",
    "    model_clone = copy.deepcopy(Model)\n",
    "    \n",
    "    setattr(model_clone, by_changing, a)\n",
    "    f_a_0 = getattr(model_clone, obj_fn)()\n",
    "    setattr(model_clone, by_changing, b)\n",
    "    f_b_0 = getattr(model_clone, obj_fn)()\n",
    "    \n",
    "    if (f_a_0 - target) * (f_b_0 - target) >= 0:\n",
    "        # print(\"Bisection method fails.\")\n",
    "        return None\n",
    "    \n",
    "    # Initialize the end points\n",
    "    a_n = a\n",
    "    b_n = b\n",
    "    for n in range(1, N+1):\n",
    "        # Compute the midpoint\n",
    "        m_n = (a_n + b_n)/2\n",
    "        \n",
    "        # Function value at midpoint\n",
    "        setattr(model_clone, by_changing, m_n)\n",
    "        f_m_n = getattr(model_clone, obj_fn)()\n",
    "        \n",
    "        # Function value at a_n\n",
    "        setattr(model_clone, by_changing, a_n)\n",
    "        f_a_n = getattr(model_clone, obj_fn)()\n",
    "        \n",
    "        # Function value at b_n\n",
    "        setattr(model_clone, by_changing, b_n)\n",
    "        f_b_n = getattr(model_clone, obj_fn)()\n",
    "        \n",
    "        if verbose:\n",
    "            print(f\"n = {n}, a_n = {a_n}, b_n = {b_n}, m_n = {m_n}, width = {b_n - a_n}\")\n",
    "\n",
    "        # Figure out which half the root is in, or if we hit it exactly, or if the search failed\n",
    "        if (f_a_n - target) * (f_m_n - target) < 0:\n",
    "            a_n = a_n\n",
    "            b_n = m_n\n",
    "            if verbose:\n",
    "                print(\"Root is in left half\")\n",
    "        elif (f_b_n - target) * (f_m_n - target) < 0:\n",
    "            a_n = m_n\n",
    "            b_n = b_n\n",
    "            if verbose:\n",
    "                print(\"Root is in right half\")\n",
    "        elif f_m_n == target:\n",
    "            if verbose:\n",
    "                print(\"Found exact solution.\")\n",
    "            return m_n\n",
    "        else:\n",
    "            if verbose:\n",
    "                print(\"Bisection method fails.\")\n",
    "            return None\n",
    "    \n",
    "    # If we get here we hit iteration limit, return best solution found so far\n",
    "    if verbose:\n",
    "        print(\"Reached iteration limit\")\n",
    "    return (a_n + b_n)/2"
   ]
  },
  {
   "cell_type": "code",
   "execution_count": null,
   "id": "1495bd72-ea74-471b-bf56-a987362ee128",
   "metadata": {
    "tags": []
   },
   "outputs": [],
   "source": [
    "goal_seek(model_3_ext, 'profit', 0, 'selling_price', 100, 200, N=100, verbose=True)"
   ]
  },
  {
   "cell_type": "markdown",
   "id": "da8d71b8-ea1c-4e14-8f37-2a6e13b5a92e",
   "metadata": {},
   "source": [
    "<div class=\"alert alert-block alert-success\">\n",
    "<b>Comparing the EXT model to the OG model, the EXT model does not even start making a profit until selling price is somewhere between $140 and $160. After running goal seek, the break even sell price is $143.33 which is about 17 dollars more than the break even sell price in the OG model. The shapes of the curves are also different (as you can see yourself, lol). It looks like the optimal situation for the EXT model is to never go above 1200 units. The \"negative profit\" in this situation more so reads to me as \"missed opportunities.\" Had they been able to meet the demand, they would have been able to make what they're \"losing.\"<b>\n",
    "</div>"
   ]
  },
  {
   "cell_type": "markdown",
   "id": "5525a421-bc99-4067-b944-ff33b03875af",
   "metadata": {},
   "source": [
    "## 2B: Goal Seek Strangeness"
   ]
  },
  {
   "cell_type": "code",
   "execution_count": null,
   "id": "20bde94a-fc26-4c27-825b-0506d20ff55e",
   "metadata": {},
   "outputs": [],
   "source": [
    "# Try running the line in the HW assignment\n",
    "\n",
    "print(f\"Break even selling price: {Model.goal_seek(model_3_ext, 'profit', 0, 'selling_price', 90, 500):.2f}\")"
   ]
  },
  {
   "cell_type": "markdown",
   "id": "6f42d89f-4ae0-40dc-93dc-48b4616b0199",
   "metadata": {},
   "source": [
    "<div class=\"alert alert-block alert-success\">\n",
    "<b>I re-ran my goal seek above with 90 and 500 for a and b and I did not get any output. I get output whenever b is less than or equal to 450...so what happens at a sell price of $450? Let's create another data table that goes higher than the sell price in our original data table.\n",
    "</div>"
   ]
  },
  {
   "cell_type": "code",
   "execution_count": null,
   "id": "1cdf1856-7b0b-4077-9ee6-8e061e892c31",
   "metadata": {},
   "outputs": [],
   "source": [
    "# Specify input ranges for scenario\n",
    "\n",
    "# 1-way table\n",
    "\n",
    "dt_param_ranges_4 = {'selling_price': np.arange(75, 551, 25)} \n",
    "\n",
    "# Specify desired outputs\n",
    "\n",
    "outputs = ['demand','num_sold','profit']\n",
    "\n",
    "# Use data_table function to create 1-way data table\n",
    "\n",
    "m4_dt4_ext_df = Model.data_table(model_3_ext, dt_param_ranges_4, outputs)\n",
    "m4_dt4_ext_df"
   ]
  },
  {
   "cell_type": "markdown",
   "id": "dd87063d-3dff-4f05-aa91-d54c104e79a1",
   "metadata": {},
   "source": [
    "<div class=\"alert alert-block alert-success\">\n",
    "<b>Ah-ha, profit goes back to being negative at a sell price of 475. Let's find the exact price profit is negative. This time I'll shorten up my data frame to somehwere between 450 and 475.<b>\n",
    "</div>"
   ]
  },
  {
   "cell_type": "code",
   "execution_count": null,
   "id": "b7587a50-dcff-4e6e-860c-1d1baf99f4bc",
   "metadata": {},
   "outputs": [],
   "source": [
    "# Specify input ranges for scenario\n",
    "\n",
    "# 1-way table\n",
    "\n",
    "dt_param_ranges_5 = {'selling_price': np.arange(450, 476, 5)} \n",
    "\n",
    "# Specify desired outputs\n",
    "\n",
    "outputs = ['demand','num_sold','profit']\n",
    "\n",
    "# Use data_table function to create 1-way data table\n",
    "\n",
    "m5_dt5_ext_df = Model.data_table(model_3_ext, dt_param_ranges_5, outputs)\n",
    "m5_dt5_ext_df"
   ]
  },
  {
   "cell_type": "markdown",
   "id": "17f2f997-669a-4227-a20c-b1c04c1bd976",
   "metadata": {},
   "source": [
    "<div class=\"alert alert-block alert-success\">\n",
    "<b>...one step deeper...now I know profit goes negative between 450 and 455...<b>\n",
    "</div>"
   ]
  },
  {
   "cell_type": "code",
   "execution_count": null,
   "id": "38536feb-418a-419e-9560-15c665d6ae07",
   "metadata": {},
   "outputs": [],
   "source": [
    "# Specify input ranges for scenario\n",
    "\n",
    "# 1-way table\n",
    "\n",
    "dt_param_ranges_6 = {'selling_price': np.arange(450, 456, 1)} \n",
    "\n",
    "# Specify desired outputs\n",
    "\n",
    "outputs = ['demand','num_sold','profit']\n",
    "\n",
    "# Use data_table function to create 1-way data table\n",
    "\n",
    "m6_dt6_ext_df = Model.data_table(model_3_ext, dt_param_ranges_6, outputs)\n",
    "m6_dt6_ext_df"
   ]
  },
  {
   "cell_type": "markdown",
   "id": "599987e1-a323-4855-870f-0d5d936db8fb",
   "metadata": {},
   "source": [
    "<div class=\"alert alert-block alert-success\">\n",
    "<b>So it looks like goal seek will work with a \"b\" value up until 454 and it will crash at 455; let's try it.<b>\n",
    "</div>"
   ]
  },
  {
   "cell_type": "code",
   "execution_count": null,
   "id": "96097c6f-d4ed-4e1a-ae81-082783434c2c",
   "metadata": {},
   "outputs": [],
   "source": [
    "# Try running the line in the HW assignment at b = 455\n",
    "\n",
    "print(f\"Break even selling price: {Model.goal_seek(model_3_ext, 'profit', 0, 'selling_price', 90, 455):.2f}\")"
   ]
  },
  {
   "cell_type": "code",
   "execution_count": null,
   "id": "5f36ed6b-6717-4555-a986-9395cd175ff4",
   "metadata": {},
   "outputs": [],
   "source": [
    "# Try running the line in the HW assignment at b = 454\n",
    "\n",
    "print(f\"Break even selling price: {Model.goal_seek(model_3_ext, 'profit', 0, 'selling_price', 90, 454):.2f}\")"
   ]
  },
  {
   "cell_type": "markdown",
   "id": "45afcb68-301b-4159-8a1d-a4d0ac415211",
   "metadata": {},
   "source": [
    "<div class=\"alert alert-block alert-success\">\n",
    "<b> Ta-daaaaaa :) A sell price of 454 worked but 455 did not so my ultimate guess as to why we get the error message at anything +455 for b is because profit goes back to being negative.<b>\n",
    "</div>"
   ]
  },
  {
   "cell_type": "code",
   "execution_count": null,
   "id": "54cba361-7167-4123-bc7a-d707526d4dfc",
   "metadata": {},
   "outputs": [],
   "source": []
  }
 ],
 "metadata": {
  "kernelspec": {
   "display_name": "Python 3",
   "language": "python",
   "name": "python3"
  },
  "language_info": {
   "codemirror_mode": {
    "name": "ipython",
    "version": 3
   },
   "file_extension": ".py",
   "mimetype": "text/x-python",
   "name": "python",
   "nbconvert_exporter": "python",
   "pygments_lexer": "ipython3",
   "version": "3.7.10"
  }
 },
 "nbformat": 4,
 "nbformat_minor": 5
}
